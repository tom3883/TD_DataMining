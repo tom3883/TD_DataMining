{
 "cells": [
  {
   "cell_type": "markdown",
   "metadata": {},
   "source": [
    "# TD3 : Data Mining for Networks\n",
    "\n",
    "Authors : Yana RAGOZINA, Thomas PAUL"
   ]
  },
  {
   "cell_type": "markdown",
   "metadata": {},
   "source": [
    "## Assignment 1"
   ]
  },
  {
   "cell_type": "markdown",
   "metadata": {},
   "source": [
    "### Exercise 1 - Gradient descent\n",
    "\n",
    "On paper"
   ]
  },
  {
   "cell_type": "markdown",
   "metadata": {},
   "source": [
    "### Exercise 2 - Linear regression and Gradient descent"
   ]
  },
  {
   "cell_type": "code",
   "execution_count": 1,
   "metadata": {},
   "outputs": [],
   "source": [
    "import sklearn\n"
   ]
  },
  {
   "cell_type": "markdown",
   "metadata": {},
   "source": [
    "## Assignment 2"
   ]
  },
  {
   "cell_type": "code",
   "execution_count": 14,
   "metadata": {},
   "outputs": [
    {
     "data": {
      "image/png": "[encoded data removed]",
      "text/plain": [
       "<Figure size 640x480 with 1 Axes>"
      ]
     },
     "metadata": {},
     "output_type": "display_data"
    }
   ],
   "source": [
    "# Imports\n",
    "import networkx as nx\n",
    "import matplotlib.pyplot as plt\n",
    "import numpy as np\n",
    "\n",
    "# Creating a simple graph\n",
    "G1 = nx.Graph()\n",
    "G1.add_node(1)\n",
    "G1.add_node(2)\n",
    "G1.add_node(3)\n",
    "\n",
    "G1.add_edge(1, 2)\n",
    "G1.add_edge(2, 3)\n",
    "\n",
    "G2 = nx.Graph()\n",
    "G2.add_node(1)\n",
    "G2.add_node(2)\n",
    "G2.add_node(3)\n",
    "\n",
    "G2.add_edge(1, 2)\n",
    "G2.add_edge(2, 3)\n",
    "G2.add_edge(1, 3)\n",
    "\n",
    "# Displaying the graph\n",
    "pos = nx.spring_layout(G1)  # You can use other layout algorithms as well\n",
    "nx.draw(G, pos, with_labels=True, font_weight='bold', node_size=700, node_color='skyblue', font_color='black', font_size=10, edge_color='gray', linewidths=1, alpha=0.7)\n",
    "plt.show()"
   ]
  },
  {
   "cell_type": "code",
   "execution_count": 15,
   "metadata": {},
   "outputs": [
    {
     "name": "stdout",
     "output_type": "stream",
     "text": [
      "[[0 1 0]\n",
      " [1 0 1]\n",
      " [0 1 0]]\n",
      "3\n",
      "0.0\n"
     ]
    }
   ],
   "source": [
    "def graph_edit_distance(graph1, graph2):\n",
    "    node_insertion_cost=1\n",
    "    node_deletion_cost=1\n",
    "    edge_insertion_cost=1\n",
    "    edge_deletion_cost=1\n",
    "    edge_substitution_cost=1\n",
    "\n",
    "    # adjacency matrix\n",
    "    adj_matrix1 = np.array(nx.adjacency_matrix(graph1).todense())\n",
    "    adj_matrix2 = np.array(nx.adjacency_matrix(graph2).todense())\n",
    "\n",
    "    # number of nodes of each graph\n",
    "    n_nodes1 = len(graph1.nodes())\n",
    "    n_nodes2 = len(graph2.nodes())\n",
    "\n",
    "    dp_matrix = np.zeros((n_nodes1 + 1, n_nodes2 + 1))\n",
    "    \n",
    "    for i in range(1, n_nodes1 + 1):\n",
    "        dp_matrix[i, 0] = dp_matrix[i - 1, 0] + node_deletion_cost\n",
    "\n",
    "    for j in range(1, n_nodes2 + 1):\n",
    "        dp_matrix[0, j] = dp_matrix[0, j - 1] + node_insertion_cost\n",
    "    \n",
    "    for i in range(1, n_nodes1 + 1):\n",
    "        for j in range(1, n_nodes2 + 1):\n",
    "            # Node Operations\n",
    "            deletion_cost = dp_matrix[i - 1, j] + node_deletion_cost\n",
    "            insertion_cost = dp_matrix[i, j - 1] + node_insertion_cost\n",
    "\n",
    "            # Edge Operations\n",
    "            edge_substitution_cost_ij = edge_substitution_cost if adj_matrix1[i - 1, j - 1] != adj_matrix2[i - 1, j - 1] else 0\n",
    "            substitution_cost = dp_matrix[i - 1, j - 1] + edge_substitution_cost_ij\n",
    "            dp_matrix[i, j] = min(deletion_cost, insertion_cost, substitution_cost)\n",
    "     \n",
    "    ged = dp_matrix[n_nodes1, n_nodes2]\n",
    "\n",
    "    return ged\n",
    "\n",
    "ged = graph_edit_distance(G1, G2)\n",
    "print(ged)"
   ]
  }
 ],
 "metadata": {
  "kernelspec": {
   "display_name": "Python 3",
   "language": "python",
   "name": "python3"
  },
  "language_info": {
   "codemirror_mode": {
    "name": "ipython",
    "version": 3
   },
   "file_extension": ".py",
   "mimetype": "text/x-python",
   "name": "python",
   "nbconvert_exporter": "python",
   "pygments_lexer": "ipython3",
   "version": "3.11.5"
  }
 },
 "nbformat": 4,
 "nbformat_minor": 2
}
