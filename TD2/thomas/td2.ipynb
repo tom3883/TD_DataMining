{
 "cells": [
  {
   "cell_type": "markdown",
   "metadata": {},
   "source": [
    "# TD2 : Multi Arm Bandit\n",
    "\n",
    "Author : Thomas PAUL"
   ]
  },
  {
   "cell_type": "code",
   "execution_count": 1,
   "metadata": {},
   "outputs": [],
   "source": [
    "import numpy as np\n",
    "import random"
   ]
  },
  {
   "cell_type": "code",
   "execution_count": null,
   "metadata": {},
   "outputs": [],
   "source": [
    "# defining constants\n",
    "arms = 10\n",
    "avg_scores = np.zeros(arms)"
   ]
  },
  {
   "cell_type": "code",
   "execution_count": null,
   "metadata": {},
   "outputs": [],
   "source": [
    "#R = [0.05, 0.05, 0.05, 0.05, 0.05, 0.05, 0.05, 0.05, 0.05, 1]\n",
    "arms = [\n",
    "    [0.05, 1],\n",
    "    [0.05, 1],\n",
    "    [0.05, 1],\n",
    "    [0.05, 1],\n",
    "    [0.05, 1],\n",
    "    [0.05, 1],\n",
    "    [0.05, 1],\n",
    "    [0.05, 1],\n",
    "    [1, 0.1],\n",
    "]\n",
    "\n"
   ]
  },
  {
   "cell_type": "code",
   "execution_count": null,
   "metadata": {},
   "outputs": [],
   "source": [
    "# question 3.i\n",
    "for i, arm in enumerate(arms):\n",
    "    # pulling an arm\n",
    "    score = random.randint(0, 100000)\n",
    "    avg_scores[i] = avg_scores[i]\n"
   ]
  }
 ],
 "metadata": {
  "kernelspec": {
   "display_name": "Python 3",
   "language": "python",
   "name": "python3"
  },
  "language_info": {
   "codemirror_mode": {
    "name": "ipython",
    "version": 3
   },
   "file_extension": ".py",
   "mimetype": "text/x-python",
   "name": "python",
   "nbconvert_exporter": "python",
   "pygments_lexer": "ipython3",
   "version": "3.11.5"
  }
 },
 "nbformat": 4,
 "nbformat_minor": 2
}
