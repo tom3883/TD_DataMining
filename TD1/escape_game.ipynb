{
 "cells": [
  {
   "cell_type": "markdown",
   "metadata": {},
   "source": [
    "# Escape Game\n",
    "\n",
    "Authors : Yana RAGOZINA - Thomas PAUL"
   ]
  },
  {
   "cell_type": "markdown",
   "metadata": {},
   "source": [
    "## Imports"
   ]
  },
  {
   "cell_type": "code",
   "execution_count": 8,
   "metadata": {},
   "outputs": [],
   "source": [
    "import numpy as np\n",
    "import random"
   ]
  },
  {
   "cell_type": "code",
   "execution_count": 9,
   "metadata": {},
   "outputs": [],
   "source": [
    "# Constants\n",
    "states = 6\n",
    "actions = 6\n",
    "gamma = 0.8\n",
    "episodes = 100\n",
    "\n",
    "R = np.array([\n",
    "    [ -1, -1, -1, -1, 0, -1 ],\n",
    "    [ -1, -1, -1, 0, -1, 100 ],\n",
    "    [ -1, -1, -1, 0, -1, -1 ],\n",
    "    [ -1, 0, 0, -1, 0, -1 ],\n",
    "    [ 0, -1, -1, 0, -1, 100 ],\n",
    "    [ -1, 0, -1, -1, 0, 100 ],\n",
    "])"
   ]
  },
  {
   "cell_type": "code",
   "execution_count": 10,
   "metadata": {},
   "outputs": [],
   "source": [
    "# 1. Initialize the Q-table\n",
    "Q = np.array([\n",
    "    [ -1, -1, -1, -1, 0, -1 ],\n",
    "    [ -1, -1, -1, 0, -1, 0 ],\n",
    "    [ -1, -1, -1, 0, -1, -1 ],\n",
    "    [ -1, 0, 0, -1, 0, -1 ],\n",
    "    [ 0, -1, -1, 0, -1, 0 ],\n",
    "    [ -1, 0, -1, -1, 0, 0 ],\n",
    "])\n"
   ]
  },
  {
   "cell_type": "code",
   "execution_count": 11,
   "metadata": {},
   "outputs": [
    {
     "name": "stdout",
     "output_type": "stream",
     "text": [
      "[[ -1  -1  -1  -1   0  -1]\n",
      " [ -1  -1  -1   0  -1 100]\n",
      " [ -1  -1  -1   0  -1  -1]\n",
      " [ -1   0   0  -1   0  -1]\n",
      " [  0  -1  -1   0  -1   0]\n",
      " [ -1   0  -1  -1   0   0]]\n"
     ]
    }
   ],
   "source": [
    "# 2.a Using Bellman equation, compute the new value of Q(1,5)\n",
    "# 2.b Update the Q-table accordingly\n",
    "Q[1, 5] = R[1, 5] + gamma * np.max(Q[5,:])\n",
    "\n",
    "print(Q)"
   ]
  },
  {
   "cell_type": "code",
   "execution_count": 12,
   "metadata": {},
   "outputs": [
    {
     "name": "stdout",
     "output_type": "stream",
     "text": [
      "Q[3, 1]\n",
      " [[ -1  -1  -1  -1   0  -1]\n",
      " [ -1  -1  -1   0  -1 100]\n",
      " [ -1  -1  -1   0  -1  -1]\n",
      " [ -1  80   0  -1   0  -1]\n",
      " [  0  -1  -1   0  -1   0]\n",
      " [ -1   0  -1  -1   0   0]]\n",
      "Q[1, 5]\n",
      " [[ -1  -1  -1  -1   0  -1]\n",
      " [ -1  -1  -1   0  -1 100]\n",
      " [ -1  -1  -1   0  -1  -1]\n",
      " [ -1  80   0  -1   0  -1]\n",
      " [  0  -1  -1   0  -1   0]\n",
      " [ -1   0  -1  -1   0   0]]\n"
     ]
    }
   ],
   "source": [
    "# 3. For the next episode, we start with a randomly chosen initial state. \n",
    "# This time, we have state 3 as our initial state and by random selection,  \n",
    "# we select to go to state 1 as our action. Update the Q(3,1) value\n",
    "Q[3, 1] = R[3, 1] + gamma * np.max(Q[1,:])\n",
    "\n",
    "print(f\"Q[3, 1]\\n {Q}\")\n",
    "\n",
    "#The next state, 1, now becomes the current state.  We repeat the inner loop of the Q \n",
    "#learning algorithm because state 1 is not the goal state. Assume we select again randomly \n",
    "#state 5. What is the new updated Q-table at the end of this episode ?\n",
    "Q[1, 5] = R[1, 5] + gamma * np.max(Q[5,:])\n",
    "\n",
    "print(f\"Q[1, 5]\\n {Q}\")\n"
   ]
  },
  {
   "cell_type": "code",
   "execution_count": 13,
   "metadata": {},
   "outputs": [
    {
     "name": "stdout",
     "output_type": "stream",
     "text": [
      "[[ -1  -1  -1  -1  80  -1]\n",
      " [ -1  -1  -1  64  -1 100]\n",
      " [ -1  -1  -1  64  -1  -1]\n",
      " [ -1  80  51  -1  80  -1]\n",
      " [ 64  -1  -1  64  -1 100]\n",
      " [ -1   0  -1  -1   0   0]]\n"
     ]
    }
   ],
   "source": [
    "# 4. Try to explore more episodes to find the Q-table reaching the convergence values.\n",
    "for episode in range(episodes):\n",
    "\n",
    "    state = random.randint(0, 5)\n",
    "\n",
    "    while state != 5:\n",
    "\n",
    "        target_action = random.randint(0, 5)\n",
    "\n",
    "        while R[state, target_action] == -1:\n",
    "            target_action = random.randint(0, 5)\n",
    "\n",
    "        Q[state, target_action] = R[state, target_action] + gamma * np.max(Q[target_action,:])\n",
    "\n",
    "        state = target_action\n",
    "\n",
    "\n",
    "print(Q)"
   ]
  },
  {
   "cell_type": "markdown",
   "metadata": {},
   "source": [
    "It is normal that the Q[5, 5] is equal to 0 because we exit the loop once we have reached this state"
   ]
  },
  {
   "cell_type": "code",
   "execution_count": 15,
   "metadata": {},
   "outputs": [
    {
     "name": "stdout",
     "output_type": "stream",
     "text": [
      "[2, 3, 1, 5]\n"
     ]
    }
   ],
   "source": [
    "# Once the matrix Q gets close enough to a state of convergence, we know our agent has \n",
    "# learned the most optimal paths to the goal state.  Tracing the best sequences of states is as \n",
    "# simple as following the links with the highest values at each state. \n",
    "# What is the best sequence to escape the building from room 2 ?\n",
    "\n",
    "state = 2\n",
    "steps = [2]\n",
    "\n",
    "while state != 5:\n",
    "    next_step_index = np.argmax(Q[state, :])\n",
    "    steps.append(next_step_index)\n",
    "    state = next_step_index\n",
    "\n",
    "print(steps)"
   ]
  },
  {
   "cell_type": "markdown",
   "metadata": {},
   "source": [
    "The agent has followed one of optimal paths."
   ]
  }
 ],
 "metadata": {
  "kernelspec": {
   "display_name": "Python 3",
   "language": "python",
   "name": "python3"
  },
  "language_info": {
   "codemirror_mode": {
    "name": "ipython",
    "version": 3
   },
   "file_extension": ".py",
   "mimetype": "text/x-python",
   "name": "python",
   "nbconvert_exporter": "python",
   "pygments_lexer": "ipython3",
   "version": "3.11.5"
  }
 },
 "nbformat": 4,
 "nbformat_minor": 2
}
