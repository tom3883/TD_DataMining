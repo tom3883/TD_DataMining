{
 "cells": [
  {
   "cell_type": "markdown",
   "metadata": {},
   "source": [
    "## Data Mining for Networks\n",
    "\n",
    "Yana RAGOZINA - Thomas PAUL\n",
    "\n",
    "SI5 IAID FISA"
   ]
  },
  {
   "cell_type": "code",
   "execution_count": 2,
   "metadata": {},
   "outputs": [],
   "source": [
    "import numpy as np"
   ]
  },
  {
   "cell_type": "markdown",
   "metadata": {},
   "source": [
    "### Exercise 1"
   ]
  },
  {
   "cell_type": "markdown",
   "metadata": {},
   "source": [
    "#### 1. Random walk kernel value of graphs"
   ]
  },
  {
   "cell_type": "markdown",
   "metadata": {},
   "source": [
    " 1. Graphs G and G'\n",
    "\n",
    "The first step is to compute the direct product graph of G and G'.\n",
    "\n",
    "Then, with the direct product graph, we can compute the adjacency matrix.\n",
    "\n",
    "This part has been done by hand, if the images are not visible in this cell, they can be located in the folder of this assignment."
   ]
  },
  {
   "cell_type": "markdown",
   "metadata": {},
   "source": [
    "Here is the adjacency matrix of the direct product graph G x G' computed by hand :"
   ]
  },
  {
   "cell_type": "code",
   "execution_count": 9,
   "metadata": {},
   "outputs": [
    {
     "data": {
      "text/plain": [
       "(16, 16)"
      ]
     },
     "execution_count": 9,
     "metadata": {},
     "output_type": "execute_result"
    }
   ],
   "source": [
    "A = np.array([\n",
    "     [0,0,0,0,0,1,1,1,0,1,1,1,0,1,1,1],\n",
    "     [0,0,0,0,1,1,0,0,1,1,0,0,1,1,0,0],\n",
    "     [0,0,0,0,1,0,0,0,1,0,0,0,0,0,0,0],\n",
    "     [0,0,0,0,1,0,0,0,1,0,0,0,0,0,0,0],\n",
    "     [0,1,1,1,0,0,0,0,0,0,0,0,0,0,0,0],\n",
    "     [1,1,0,0,0,0,0,0,0,0,0,0,0,0,0,0],\n",
    "     [1,0,0,0,0,0,0,0,0,0,0,0,0,0,0,0],\n",
    "     [1,0,0,0,0,0,0,0,0,0,0,0,0,0,0,0],\n",
    "     [0,1,1,1,0,0,0,0,0,0,0,0,0,0,0,0],\n",
    "     [1,1,0,0,0,0,0,0,0,0,0,0,0,0,0,0],\n",
    "     [1,0,0,0,0,0,0,0,0,0,0,0,0,0,0,0],\n",
    "     [1,0,0,0,0,0,0,0,0,0,0,0,0,0,0,0],\n",
    "     [0,1,0,0,0,0,0,0,0,0,0,0,0,0,0,0],\n",
    "     [1,1,0,0,0,0,0,0,0,0,0,0,0,0,0,0],\n",
    "     [1,0,0,0,0,0,0,0,0,0,0,0,0,0,0,0],\n",
    "     [1,0,0,0,0,0,0,0,0,0,0,0,0,0,0,0]])\n",
    "\n",
    "A.shape"
   ]
  },
  {
   "cell_type": "markdown",
   "metadata": {},
   "source": [
    "Now that we have the adjacency matrix, we need to compute for each k, the adjacency matrix to the power of k. \n",
    "\n",
    "k being the lengths of the walks. In our case we have k = 0, 1, 2, 3, 4."
   ]
  },
  {
   "cell_type": "code",
   "execution_count": 11,
   "metadata": {},
   "outputs": [
    {
     "data": {
      "text/plain": [
       "array([[ 0,  0,  0,  0,  3, 12,  9,  9,  3, 12,  9,  9,  3, 12,  9,  9],\n",
       "       [ 0,  0,  0,  0, 10,  9,  3,  3, 10,  9,  3,  3,  6,  9,  3,  3],\n",
       "       [ 0,  0,  0,  0,  6,  2,  0,  0,  6,  2,  0,  0,  2,  2,  0,  0],\n",
       "       [ 0,  0,  0,  0,  6,  2,  0,  0,  6,  2,  0,  0,  2,  2,  0,  0],\n",
       "       [ 3, 10,  6,  6,  0,  0,  0,  0,  0,  0,  0,  0,  0,  0,  0,  0],\n",
       "       [12,  9,  2,  2,  0,  0,  0,  0,  0,  0,  0,  0,  0,  0,  0,  0],\n",
       "       [ 9,  3,  0,  0,  0,  0,  0,  0,  0,  0,  0,  0,  0,  0,  0,  0],\n",
       "       [ 9,  3,  0,  0,  0,  0,  0,  0,  0,  0,  0,  0,  0,  0,  0,  0],\n",
       "       [ 3, 10,  6,  6,  0,  0,  0,  0,  0,  0,  0,  0,  0,  0,  0,  0],\n",
       "       [12,  9,  2,  2,  0,  0,  0,  0,  0,  0,  0,  0,  0,  0,  0,  0],\n",
       "       [ 9,  3,  0,  0,  0,  0,  0,  0,  0,  0,  0,  0,  0,  0,  0,  0],\n",
       "       [ 9,  3,  0,  0,  0,  0,  0,  0,  0,  0,  0,  0,  0,  0,  0,  0],\n",
       "       [ 3,  6,  2,  2,  0,  0,  0,  0,  0,  0,  0,  0,  0,  0,  0,  0],\n",
       "       [12,  9,  2,  2,  0,  0,  0,  0,  0,  0,  0,  0,  0,  0,  0,  0],\n",
       "       [ 9,  3,  0,  0,  0,  0,  0,  0,  0,  0,  0,  0,  0,  0,  0,  0],\n",
       "       [ 9,  3,  0,  0,  0,  0,  0,  0,  0,  0,  0,  0,  0,  0,  0,  0]])"
      ]
     },
     "execution_count": 11,
     "metadata": {},
     "output_type": "execute_result"
    }
   ],
   "source": [
    "A_0 = np.eye(A.shape[0])\n",
    "A_1 = A\n",
    "A_2 = np.linalg.matrix_power(A, 2)\n",
    "A_3 = np.linalg.matrix_power(A, 3)\n",
    "A_4 = np.linalg.matrix_power(A, 4)\n",
    "\n",
    "A_3"
   ]
  },
  {
   "cell_type": "markdown",
   "metadata": {},
   "source": [
    "The following section does the sum of each previous matrix (like the formula) :"
   ]
  },
  {
   "cell_type": "code",
   "execution_count": 13,
   "metadata": {},
   "outputs": [
    {
     "data": {
      "text/plain": [
       "array([[100.,  48.,   6.,   6.,   3.,  13.,  10.,  10.,   3.,  13.,  10.,\n",
       "         10.,   3.,  13.,  10.,  10.],\n",
       "       [ 48.,  60.,  22.,  22.,  11.,  10.,   3.,   3.,  11.,  10.,   3.,\n",
       "          3.,   7.,  10.,   3.,   3.],\n",
       "       [  6.,  22.,  15.,  14.,   7.,   2.,   0.,   0.,   7.,   2.,   0.,\n",
       "          0.,   2.,   2.,   0.,   0.],\n",
       "       [  6.,  22.,  14.,  15.,   7.,   2.,   0.,   0.,   7.,   2.,   0.,\n",
       "          0.,   2.,   2.,   0.,   0.],\n",
       "       [  3.,  11.,   7.,   7.,  26.,  14.,   3.,   3.,  25.,  14.,   3.,\n",
       "          3.,  11.,  14.,   3.,   3.],\n",
       "       [ 13.,  10.,   2.,   2.,  14.,  24.,  13.,  13.,  14.,  23.,  13.,\n",
       "         13.,  10.,  23.,  13.,  13.],\n",
       "       [ 10.,   3.,   0.,   0.,   3.,  13.,  11.,  10.,   3.,  13.,  10.,\n",
       "         10.,   3.,  13.,  10.,  10.],\n",
       "       [ 10.,   3.,   0.,   0.,   3.,  13.,  10.,  11.,   3.,  13.,  10.,\n",
       "         10.,   3.,  13.,  10.,  10.],\n",
       "       [  3.,  11.,   7.,   7.,  25.,  14.,   3.,   3.,  26.,  14.,   3.,\n",
       "          3.,  11.,  14.,   3.,   3.],\n",
       "       [ 13.,  10.,   2.,   2.,  14.,  23.,  13.,  13.,  14.,  24.,  13.,\n",
       "         13.,  10.,  23.,  13.,  13.],\n",
       "       [ 10.,   3.,   0.,   0.,   3.,  13.,  10.,  10.,   3.,  13.,  11.,\n",
       "         10.,   3.,  13.,  10.,  10.],\n",
       "       [ 10.,   3.,   0.,   0.,   3.,  13.,  10.,  10.,   3.,  13.,  10.,\n",
       "         11.,   3.,  13.,  10.,  10.],\n",
       "       [  3.,   7.,   2.,   2.,  11.,  10.,   3.,   3.,  11.,  10.,   3.,\n",
       "          3.,   8.,  10.,   3.,   3.],\n",
       "       [ 13.,  10.,   2.,   2.,  14.,  23.,  13.,  13.,  14.,  23.,  13.,\n",
       "         13.,  10.,  24.,  13.,  13.],\n",
       "       [ 10.,   3.,   0.,   0.,   3.,  13.,  10.,  10.,   3.,  13.,  10.,\n",
       "         10.,   3.,  13.,  11.,  10.],\n",
       "       [ 10.,   3.,   0.,   0.,   3.,  13.,  10.,  10.,   3.,  13.,  10.,\n",
       "         10.,   3.,  13.,  10.,  11.]])"
      ]
     },
     "execution_count": 13,
     "metadata": {},
     "output_type": "execute_result"
    }
   ],
   "source": [
    "M = A_0 + A_1 + A_2 + A_3 + A_4\n",
    "\n",
    "M"
   ]
  },
  {
   "cell_type": "markdown",
   "metadata": {},
   "source": [
    "Finally, we do the sum of each value of the matrix (like the formula):"
   ]
  },
  {
   "cell_type": "code",
   "execution_count": 14,
   "metadata": {},
   "outputs": [
    {
     "data": {
      "text/plain": [
       "2418.0"
      ]
     },
     "execution_count": 14,
     "metadata": {},
     "output_type": "execute_result"
    }
   ],
   "source": [
    "RWK = np.sum(M)\n",
    "\n",
    "RWK"
   ]
  },
  {
   "cell_type": "markdown",
   "metadata": {},
   "source": [
    " 2. Graphs G' and G''\n",
    "\n",
    "The first step is to compute the direct product graph of G' and G'' :\n",
    "\n",
    "![alternative text](./DPG_G'xG''.jpg)\n",
    "\n",
    "Then, with the direct product graph, we can compute the adjacency matrix :\n",
    "\n",
    "![alternative text](./Ax_G'xG''.jpg)\n",
    "\n",
    "This part has been done by hand, if the images are not visible in this cell, they can be located in the folder of this assignment."
   ]
  },
  {
   "cell_type": "markdown",
   "metadata": {},
   "source": [
    "Here is the adjacency matrix of the direct product graph G x G' computed by hand :"
   ]
  },
  {
   "cell_type": "code",
   "execution_count": 4,
   "metadata": {},
   "outputs": [
    {
     "data": {
      "text/plain": [
       "(16, 16)"
      ]
     },
     "execution_count": 4,
     "metadata": {},
     "output_type": "execute_result"
    }
   ],
   "source": [
    "A = np.array([\n",
    "     [0,0,0,0,0,1,0,0,0,0,0,0,0,0,0,0],\n",
    "     [0,0,0,0,1,0,1,1,0,0,0,0,0,0,0,0],\n",
    "     [0,0,0,0,0,1,0,1,0,0,0,0,0,0,0,0],\n",
    "     [0,0,0,0,1,0,1,0,0,0,0,0,0,0,0,0],\n",
    "     [0,0,0,0,0,1,0,0,0,0,0,0,0,0,0,0],\n",
    "     [0,0,0,0,0,0,0,0,0,0,0,0,0,0,0,0],\n",
    "     [0,0,0,0,0,1,0,0,0,0,0,0,0,0,0,0],\n",
    "     [0,0,0,0,1,0,1,0,0,0,0,0,0,0,0,0],\n",
    "     [0,1,0,1,0,0,0,0,0,0,0,0,0,0,0,0],\n",
    "     [1,0,1,0,0,0,0,0,0,0,0,0,0,0,0,0],\n",
    "     [0,1,0,1,0,0,0,0,0,0,0,0,0,0,0,0],\n",
    "     [1,0,1,0,0,0,0,0,0,0,0,0,0,0,0,0],\n",
    "     [0,1,0,1,0,0,0,0,0,0,0,0,0,0,0,0],\n",
    "     [1,0,1,0,0,0,0,0,0,0,0,0,0,0,0,0],\n",
    "     [0,1,0,1,0,0,0,0,0,0,0,0,0,0,0,0],\n",
    "     [1,0,1,0,0,0,0,0,0,0,0,0,0,0,0,0]])\n",
    "\n",
    "A.shape"
   ]
  },
  {
   "cell_type": "markdown",
   "metadata": {},
   "source": [
    "Now that we have the adjacency matrix, we need to compute for each k, the adjacency matrix to the power of k. \n",
    "\n",
    "k being the lengths of the walks. In our case we have k = 0, 1, 2, 3, 4."
   ]
  },
  {
   "cell_type": "code",
   "execution_count": 5,
   "metadata": {},
   "outputs": [
    {
     "data": {
      "text/plain": [
       "array([[0, 0, 0, 0, 0, 0, 0, 0, 0, 0, 0, 0, 0, 0, 0, 0],\n",
       "       [0, 0, 0, 0, 0, 2, 0, 0, 0, 0, 0, 0, 0, 0, 0, 0],\n",
       "       [0, 0, 0, 0, 0, 2, 0, 0, 0, 0, 0, 0, 0, 0, 0, 0],\n",
       "       [0, 0, 0, 0, 0, 0, 0, 0, 0, 0, 0, 0, 0, 0, 0, 0],\n",
       "       [0, 0, 0, 0, 0, 0, 0, 0, 0, 0, 0, 0, 0, 0, 0, 0],\n",
       "       [0, 0, 0, 0, 0, 0, 0, 0, 0, 0, 0, 0, 0, 0, 0, 0],\n",
       "       [0, 0, 0, 0, 0, 0, 0, 0, 0, 0, 0, 0, 0, 0, 0, 0],\n",
       "       [0, 0, 0, 0, 0, 0, 0, 0, 0, 0, 0, 0, 0, 0, 0, 0],\n",
       "       [0, 0, 0, 0, 1, 4, 1, 0, 0, 0, 0, 0, 0, 0, 0, 0],\n",
       "       [0, 0, 0, 0, 1, 0, 1, 0, 0, 0, 0, 0, 0, 0, 0, 0],\n",
       "       [0, 0, 0, 0, 1, 4, 1, 0, 0, 0, 0, 0, 0, 0, 0, 0],\n",
       "       [0, 0, 0, 0, 1, 0, 1, 0, 0, 0, 0, 0, 0, 0, 0, 0],\n",
       "       [0, 0, 0, 0, 1, 4, 1, 0, 0, 0, 0, 0, 0, 0, 0, 0],\n",
       "       [0, 0, 0, 0, 1, 0, 1, 0, 0, 0, 0, 0, 0, 0, 0, 0],\n",
       "       [0, 0, 0, 0, 1, 4, 1, 0, 0, 0, 0, 0, 0, 0, 0, 0],\n",
       "       [0, 0, 0, 0, 1, 0, 1, 0, 0, 0, 0, 0, 0, 0, 0, 0]])"
      ]
     },
     "execution_count": 5,
     "metadata": {},
     "output_type": "execute_result"
    }
   ],
   "source": [
    "A_0 = np.eye(A.shape[0])\n",
    "A_1 = A\n",
    "A_2 = np.linalg.matrix_power(A, 2)\n",
    "A_3 = np.linalg.matrix_power(A, 3)\n",
    "A_4 = np.linalg.matrix_power(A, 4)\n",
    "\n",
    "A_3"
   ]
  },
  {
   "cell_type": "markdown",
   "metadata": {},
   "source": [
    "The following section does the sum of each previous matrix (like the formula) :"
   ]
  },
  {
   "cell_type": "code",
   "execution_count": 6,
   "metadata": {},
   "outputs": [
    {
     "data": {
      "text/plain": [
       "array([[1., 0., 0., 0., 0., 1., 0., 0., 0., 0., 0., 0., 0., 0., 0., 0.],\n",
       "       [0., 1., 0., 0., 2., 4., 2., 1., 0., 0., 0., 0., 0., 0., 0., 0.],\n",
       "       [0., 0., 1., 0., 1., 3., 1., 1., 0., 0., 0., 0., 0., 0., 0., 0.],\n",
       "       [0., 0., 0., 1., 1., 2., 1., 0., 0., 0., 0., 0., 0., 0., 0., 0.],\n",
       "       [0., 0., 0., 0., 1., 1., 0., 0., 0., 0., 0., 0., 0., 0., 0., 0.],\n",
       "       [0., 0., 0., 0., 0., 1., 0., 0., 0., 0., 0., 0., 0., 0., 0., 0.],\n",
       "       [0., 0., 0., 0., 0., 1., 1., 0., 0., 0., 0., 0., 0., 0., 0., 0.],\n",
       "       [0., 0., 0., 0., 1., 2., 1., 1., 0., 0., 0., 0., 0., 0., 0., 0.],\n",
       "       [0., 1., 0., 1., 3., 6., 3., 1., 1., 0., 0., 0., 0., 0., 0., 0.],\n",
       "       [1., 0., 1., 0., 1., 4., 1., 1., 0., 1., 0., 0., 0., 0., 0., 0.],\n",
       "       [0., 1., 0., 1., 3., 6., 3., 1., 0., 0., 1., 0., 0., 0., 0., 0.],\n",
       "       [1., 0., 1., 0., 1., 4., 1., 1., 0., 0., 0., 1., 0., 0., 0., 0.],\n",
       "       [0., 1., 0., 1., 3., 6., 3., 1., 0., 0., 0., 0., 1., 0., 0., 0.],\n",
       "       [1., 0., 1., 0., 1., 4., 1., 1., 0., 0., 0., 0., 0., 1., 0., 0.],\n",
       "       [0., 1., 0., 1., 3., 6., 3., 1., 0., 0., 0., 0., 0., 0., 1., 0.],\n",
       "       [1., 0., 1., 0., 1., 4., 1., 1., 0., 0., 0., 0., 0., 0., 0., 1.]])"
      ]
     },
     "execution_count": 6,
     "metadata": {},
     "output_type": "execute_result"
    }
   ],
   "source": [
    "M = A_0 + A_1 + A_2 + A_3 + A_4\n",
    "\n",
    "M"
   ]
  },
  {
   "cell_type": "markdown",
   "metadata": {},
   "source": [
    "Finally, we do the sum of each value of the matrix (like the formula): "
   ]
  },
  {
   "cell_type": "code",
   "execution_count": 7,
   "metadata": {},
   "outputs": [
    {
     "data": {
      "text/plain": [
       "138.0"
      ]
     },
     "execution_count": 7,
     "metadata": {},
     "output_type": "execute_result"
    }
   ],
   "source": [
    "RWK = np.sum(M)\n",
    "\n",
    "RWK"
   ]
  },
  {
   "cell_type": "markdown",
   "metadata": {},
   "source": [
    "To avoid to much code duplication, below is a random walk kernel value function :"
   ]
  },
  {
   "cell_type": "code",
   "execution_count": null,
   "metadata": {},
   "outputs": [],
   "source": [
    "def random_walk_kernel_value(A):\n",
    "    A_0 = np.eye(A.shape[0])\n",
    "    A_1 = A\n",
    "    A_2 = np.linalg.matrix_power(A, 2)\n",
    "    A_3 = np.linalg.matrix_power(A, 3)\n",
    "    A_4 = np.linalg.matrix_power(A, 4)\n",
    "\n",
    "    M = A_0 + A_1 + A_2 + A_3 + A_4\n",
    "\n",
    "    return np.sum(M)"
   ]
  },
  {
   "cell_type": "markdown",
   "metadata": {},
   "source": []
  }
 ],
 "metadata": {
  "kernelspec": {
   "display_name": "Python 3",
   "language": "python",
   "name": "python3"
  },
  "language_info": {
   "codemirror_mode": {
    "name": "ipython",
    "version": 3
   },
   "file_extension": ".py",
   "mimetype": "text/x-python",
   "name": "python",
   "nbconvert_exporter": "python",
   "pygments_lexer": "ipython3",
   "version": "3.11.5"
  }
 },
 "nbformat": 4,
 "nbformat_minor": 2
}
